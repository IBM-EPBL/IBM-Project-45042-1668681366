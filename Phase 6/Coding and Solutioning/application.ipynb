{
  "metadata": {
    "language_info": {
      "codemirror_mode": {
        "name": "python",
        "version": 3
      },
      "file_extension": ".py",
      "mimetype": "text/x-python",
      "name": "python",
      "nbconvert_exporter": "python",
      "pygments_lexer": "ipython3",
      "version": "3.8"
    },
    "kernelspec": {
      "name": "python",
      "display_name": "Python (Pyodide)",
      "language": "python"
    }
  },
  "nbformat_minor": 4,
  "nbformat": 4,
  "cells": [
    {
      "cell_type": "code",
      "source": "import joblib\nfrom flask import Flask, render_template, redirect, url_for, request\nfrom flask_bootstrap import Bootstrap\nfrom flask_wtf import FlaskForm\nfrom wtforms import StringField, PasswordField, BooleanField\nfrom wtforms.validators import InputRequired, Email, Length\nfrom flask_sqlalchemy import SQLAlchemy\nfrom werkzeug.security import generate_password_hash, check_password_hash\nfrom flask_login import LoginManager, UserMixin, login_user, login_required, logout_user\nimport pandas as pd\nimport pickle\nimport numpy as np\nfrom sklearn.ensemble import RandomForestClassifier\nfrom sklearn.model_selection import train_test_split\n\n# filename = 'kidney-prediction-rfc-model.pkl'\n# classifier = pickle.load(open(filename, 'rb'))\n# model = pickle.load(open('model.pkl', 'rb'))\n# model1 = pickle.load(open('model1.pkl', 'rb'))\n\napp = Flask(__name__)\napp.config['SECRET_KEY'] = 'secret'\napp.config['SQLALCHEMY_DATABASE_URI'] = 'sqlite:///database.db'\nbootstrap = Bootstrap(app)\ndb = SQLAlchemy(app)\nlogin_manager = LoginManager()\nlogin_manager.init_app(app)\nlogin_manager.login_view = 'login'\n\n\nclass User(UserMixin, db.Model):\n    id = db.Column(db.Integer, primary_key=True)\n    username = db.Column(db.String(15), unique=True)\n    email = db.Column(db.String(50), unique=True)\n    password = db.Column(db.String(80))\n\n\n@login_manager.user_loader\ndef load_user(user_id):\n    return User.query.get(int(user_id))\n\n\nclass LoginForm(FlaskForm):\n    username = StringField('Username', validators=[InputRequired(), Length(min=4, max=15)])\n    password = PasswordField('Password', validators=[InputRequired(), Length(min=8, max=80)])\n    remember = BooleanField('remember me')\n\n\nclass RegisterForm(FlaskForm):\n    email = StringField('Email', validators=[InputRequired(), Email(message='Invalid email'), Length(max=50)])\n    username = StringField('Username', validators=[InputRequired(), Length(min=4, max=15)])\n    password = PasswordField('Password', validators=[InputRequired(), Length(min=8, max=80)])\n\n\n\n@app.route('/')\ndef index():\n    return render_template(\"index.html\")\n\n\n@app.route('/about')\ndef about():\n    return render_template(\"about.html\")\n\n\n@app.route('/help')\ndef help():\n    return render_template(\"help.html\")\n\n\n@app.route('/terms')\ndef terms():\n    return render_template(\"tc.html\")\n\n\n@app.route('/login', methods=['GET', 'POST'])\ndef login():\n    form = LoginForm()\n    if form.validate_on_submit():\n        user = User.query.filter_by(username=form.username.data).first()\n        if user:\n            if check_password_hash(user.password, form.password.data):\n                login_user(user, remember=form.remember.data)\n                return redirect(url_for('dashboard'))\n\n        return render_template(\"login.html\", form=form)\n    return render_template(\"login.html\", form=form)\n\n\n@app.route('/signup', methods=['GET', 'POST'])\ndef signup():\n    form = RegisterForm()\n    if form.validate_on_submit():\n        hashed_password = generate_password_hash(form.password.data, method='sha256')\n        new_user = User(username=form.username.data, email=form.email.data, password=hashed_password)\n        db.create_all()\n        db.session.add(new_user)\n        db.session.commit()\n\n        return redirect(\"/login\")\n    return render_template('signup.html', form=form)\n\n\n@app.route(\"/dashboard\")\n@login_required\ndef dashboard():\n    return render_template(\"dashboard.html\")\n\n\n@app.route(\"/disindex\")\n\ndef disindex():\n    return render_template(\"disindex.html\")\n\n@app.route(\"/kidney\")\n@login_required\ndef kidney():\n    return render_template(\"kidney.html\")\n\n\ndef ValuePredictor(to_predict_list, size):\n    to_predict = np.array(to_predict_list).reshape(1, size)\n    if size == 7:\n        loaded_model = joblib.load('kidney_model.pkl')\n        result = loaded_model.predict(to_predict)\n    return result[0]\n\n\n@app.route(\"/predictkidney\",  methods=['GET', 'POST'])\ndef predictkidney():\n    if request.method == \"POST\":\n        to_predict_list = request.form.to_dict()\n        to_predict_list = list(to_predict_list.values())\n        to_predict_list = list(map(float, to_predict_list))\n        if len(to_predict_list) == 7:\n            result = ValuePredictor(to_predict_list, 7)\n    if(int(result) == 1):\n        prediction = \"Patient has a high risk of Kidney Disease, please consult your doctor immediately\"\n    else:\n        prediction = \"Patient has a low risk of Kidney Disease\"\n    return render_template(\"kidney_result.html\", prediction_text=prediction)\n\n@app.route('/logout')\n@login_required\ndef logout():\n    logout_user()\n    return redirect(url_for('index'))\n\n\n\n\nif __name__ == \"__main__\":\n    app.run(debug=True)",
      "metadata": {},
      "execution_count": null,
      "outputs": []
    }
  ]
}